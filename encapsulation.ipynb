{
 "cells": [
  {
   "attachments": {},
   "cell_type": "markdown",
   "metadata": {},
   "source": [
    "Encapsulation\n"
   ]
  },
  {
   "cell_type": "code",
   "execution_count": 2,
   "metadata": {},
   "outputs": [
    {
     "name": "stdout",
     "output_type": "stream",
     "text": [
      "Java\n"
     ]
    }
   ],
   "source": [
    "class base():\n",
    "    \n",
    "    a=0\n",
    "    __c=0\n",
    "    def __init__(self):\n",
    "        self.a=\"Python\"\n",
    "        self.b=\"Java\"\n",
    "        self.__c=\"Programming\"\n",
    "class derived(base):\n",
    "    \n",
    "    def __init__(self):\n",
    "        base.__init__()\n",
    "        print(self.__c)\n",
    "        \n",
    "obj1 = base()\n",
    "print(obj1.b)\n",
    "    \n",
    "    \n",
    "    \n",
    "    \n",
    "    \n",
    "    \n",
    "    "
   ]
  },
  {
   "cell_type": "code",
   "execution_count": 15,
   "metadata": {},
   "outputs": [
    {
     "ename": "AttributeError",
     "evalue": "'child' object has no attribute '_child__c'",
     "output_type": "error",
     "traceback": [
      "\u001b[1;31m---------------------------------------------------------------------------\u001b[0m",
      "\u001b[1;31mAttributeError\u001b[0m                            Traceback (most recent call last)",
      "Cell \u001b[1;32mIn[15], line 13\u001b[0m\n\u001b[0;32m     10\u001b[0m         parent\u001b[39m.\u001b[39m\u001b[39m__init__\u001b[39m(\u001b[39mself\u001b[39m)\n\u001b[0;32m     11\u001b[0m         \u001b[39mprint\u001b[39m(\u001b[39mself\u001b[39m\u001b[39m.\u001b[39m__c)\n\u001b[1;32m---> 13\u001b[0m obj1 \u001b[39m=\u001b[39m child()\n\u001b[0;32m     14\u001b[0m \u001b[39mprint\u001b[39m(obj1\u001b[39m.\u001b[39m__c)\n",
      "Cell \u001b[1;32mIn[15], line 11\u001b[0m, in \u001b[0;36mchild.__init__\u001b[1;34m(self)\u001b[0m\n\u001b[0;32m      9\u001b[0m \u001b[39mdef\u001b[39;00m \u001b[39m__init__\u001b[39m(\u001b[39mself\u001b[39m):\n\u001b[0;32m     10\u001b[0m     parent\u001b[39m.\u001b[39m\u001b[39m__init__\u001b[39m(\u001b[39mself\u001b[39m)\n\u001b[1;32m---> 11\u001b[0m     \u001b[39mprint\u001b[39m(\u001b[39mself\u001b[39;49m\u001b[39m.\u001b[39;49m__c)\n",
      "\u001b[1;31mAttributeError\u001b[0m: 'child' object has no attribute '_child__c'"
     ]
    }
   ],
   "source": [
    "class parent():\n",
    "    def __init__(self):\n",
    "        self.a=\"python\"\n",
    "        \n",
    "        self.__c=\"programming\"\n",
    "        \n",
    "class child(parent):\n",
    "    \n",
    "    def __init__(self):\n",
    "        parent.__init__(self)\n",
    "        print(self.__c)\n",
    "        \n",
    "obj1 = child()\n",
    "print(obj1.__c)"
   ]
  },
  {
   "attachments": {},
   "cell_type": "markdown",
   "metadata": {},
   "source": [
    "Practice addition of two numbers"
   ]
  },
  {
   "cell_type": "code",
   "execution_count": 16,
   "metadata": {},
   "outputs": [
    {
     "name": "stdout",
     "output_type": "stream",
     "text": [
      "sum 30\n"
     ]
    }
   ],
   "source": [
    "class base():\n",
    "    a=10\n",
    "class derived(base):\n",
    "    b=20\n",
    "    # a=30 #overriding method\n",
    "    #virtually available to derived form base class \n",
    "    def add(self):\n",
    "        c=self.a+self.b\n",
    "        print(\"sum\",c)\n",
    "        \n",
    "obj1 = derived()\n",
    "obj1.add()\n"
   ]
  },
  {
   "attachments": {},
   "cell_type": "markdown",
   "metadata": {},
   "source": [
    "Pass"
   ]
  },
  {
   "cell_type": "code",
   "execution_count": 18,
   "metadata": {},
   "outputs": [
    {
     "name": "stdout",
     "output_type": "stream",
     "text": [
      "20 is greater\n",
      "10 is smaller\n"
     ]
    }
   ],
   "source": [
    "class pass_class():\n",
    "    def pass_fun(self):\n",
    "        \n",
    "        if 20>10:\n",
    "            print(\"20 is greater\")\n",
    "            pass\n",
    "            print(\"10 is smaller\")\n",
    "            \n",
    "obj1 = pass_class()\n",
    "obj1.pass_fun()"
   ]
  },
  {
   "cell_type": "code",
   "execution_count": 35,
   "metadata": {},
   "outputs": [
    {
     "ename": "TypeError",
     "evalue": "Can't instantiate abstract class triangle with abstract method noofsides",
     "output_type": "error",
     "traceback": [
      "\u001b[1;31m---------------------------------------------------------------------------\u001b[0m",
      "\u001b[1;31mTypeError\u001b[0m                                 Traceback (most recent call last)",
      "Cell \u001b[1;32mIn[35], line 18\u001b[0m\n\u001b[0;32m     12\u001b[0m     \u001b[39mdef\u001b[39;00m \u001b[39msides\u001b[39m(\u001b[39mself\u001b[39m):\n\u001b[0;32m     13\u001b[0m         \u001b[39mprint\u001b[39m(\u001b[39m\"\u001b[39m\u001b[39mI\u001b[39m\u001b[39m'\u001b[39m\u001b[39mm having 5 sides\u001b[39m\u001b[39m\"\u001b[39m) \n\u001b[1;32m---> 18\u001b[0m obj1\u001b[39m=\u001b[39mtriangle()\n\u001b[0;32m     19\u001b[0m obj1\u001b[39m.\u001b[39msides()\n\u001b[0;32m     20\u001b[0m obj2\u001b[39m=\u001b[39mpentagon()\n",
      "\u001b[1;31mTypeError\u001b[0m: Can't instantiate abstract class triangle with abstract method noofsides"
     ]
    }
   ],
   "source": [
    "from abc import ABC, abstractmethod\n",
    "class polygon(ABC):\n",
    "    @abstractmethod\n",
    "    def noofsides(self):\n",
    "        pass\n",
    "\n",
    "class triangle(polygon):\n",
    "    def sides(self):\n",
    "        print(\"I'm having 3 sides\")\n",
    "\n",
    "class pentagon(polygon):\n",
    "    def sides(self):\n",
    "        print(\"I'm having 5 sides\") \n",
    "    \n",
    "\n",
    " \n",
    "    \n",
    "obj1=triangle()\n",
    "obj1.sides()\n",
    "obj2=pentagon()\n",
    "obj2.sides()\n"
   ]
  }
 ],
 "metadata": {
  "kernelspec": {
   "display_name": "Python 3",
   "language": "python",
   "name": "python3"
  },
  "language_info": {
   "codemirror_mode": {
    "name": "ipython",
    "version": 3
   },
   "file_extension": ".py",
   "mimetype": "text/x-python",
   "name": "python",
   "nbconvert_exporter": "python",
   "pygments_lexer": "ipython3",
   "version": "3.11.2"
  },
  "orig_nbformat": 4
 },
 "nbformat": 4,
 "nbformat_minor": 2
}
