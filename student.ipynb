{
 "cells": [
  {
   "cell_type": "code",
   "execution_count": 31,
   "metadata": {},
   "outputs": [
    {
     "name": "stdout",
     "output_type": "stream",
     "text": [
      "Pass\n"
     ]
    }
   ],
   "source": [
    "class student:\n",
    "    name=\"\"\n",
    "    Rollno=0\n",
    "    Marks1=0\n",
    "    Marks2=0\n",
    "    Marks3=0\n",
    "    \n",
    "    def studentinfo(self):\n",
    "        if self.Marks1 >= 35 and self.Marks2 >= 35 and self.Marks3 >= 35:\n",
    "            print(\"Pass\")\n",
    "        else:\n",
    "            print(\"Fail\")\n",
    "            \n",
    "    def __init__(self,name,Rollno,Marks1,Marks2,Marks3):\n",
    "        self.name=name\n",
    "        self.Rollno=Rollno\n",
    "        self.Marks1=78\n",
    "        self.Marks2=36\n",
    "        self.Marks3=78\n",
    "        \n",
    "obj=student(\"Ajay\",5,77,54,83)\n",
    "obj.studentinfo()\n",
    "\n",
    "\n",
    "\n",
    "    \n"
   ]
  }
 ],
 "metadata": {
  "kernelspec": {
   "display_name": "Python 3",
   "language": "python",
   "name": "python3"
  },
  "language_info": {
   "codemirror_mode": {
    "name": "ipython",
    "version": 3
   },
   "file_extension": ".py",
   "mimetype": "text/x-python",
   "name": "python",
   "nbconvert_exporter": "python",
   "pygments_lexer": "ipython3",
   "version": "3.11.2"
  },
  "orig_nbformat": 4
 },
 "nbformat": 4,
 "nbformat_minor": 2
}
