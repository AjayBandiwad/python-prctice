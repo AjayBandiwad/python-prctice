{
 "cells": [
  {
   "cell_type": "code",
   "execution_count": 34,
   "metadata": {},
   "outputs": [
    {
     "name": "stdout",
     "output_type": "stream",
     "text": [
      "Pass\n",
      "Pass\n",
      "Fail\n"
     ]
    }
   ],
   "source": [
    "class student:\n",
    "    name=\"\"\n",
    "    Rollno=0\n",
    "    Marks1=0\n",
    "    Marks2=0\n",
    "    Marks3=0\n",
    "    \n",
    "    def studentinfo(self):\n",
    "        if self.Marks1 >= 35 and self.Marks2 >= 35 and self.Marks3 >= 35:\n",
    "            print(\"Pass\")\n",
    "        else:\n",
    "            print(\"Fail\")\n",
    "            \n",
    "    def __init__(self,name,Rollno,Marks1,Marks2,Marks3):\n",
    "        self.name=name\n",
    "        self.Rollno=Rollno\n",
    "        self.Marks1=Marks1\n",
    "        self.Marks2=Marks2\n",
    "        self.Marks3=Marks3\n",
    "        \n",
    "obj1=student(\"Ajay\",5,77,74,53)\n",
    "obj2=student(\"Vijay\",6,87,44,93)\n",
    "obj3=student(\"jay\",7,57,24,83)\n",
    "obj1.studentinfo()\n",
    "obj2.studentinfo()\n",
    "obj3.studentinfo()\n",
    "\n",
    "\n",
    "\n",
    "    \n"
   ]
  }
 ],
 "metadata": {
  "kernelspec": {
   "display_name": "Python 3",
   "language": "python",
   "name": "python3"
  },
  "language_info": {
   "codemirror_mode": {
    "name": "ipython",
    "version": 3
   },
   "file_extension": ".py",
   "mimetype": "text/x-python",
   "name": "python",
   "nbconvert_exporter": "python",
   "pygments_lexer": "ipython3",
   "version": "3.11.2"
  },
  "orig_nbformat": 4
 },
 "nbformat": 4,
 "nbformat_minor": 2
}
