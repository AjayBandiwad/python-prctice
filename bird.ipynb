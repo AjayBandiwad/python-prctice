{
 "cells": [
  {
   "cell_type": "code",
   "execution_count": 3,
   "metadata": {},
   "outputs": [
    {
     "ename": "NameError",
     "evalue": "name 'ostrich' is not defined",
     "output_type": "error",
     "traceback": [
      "\u001b[1;31m---------------------------------------------------------------------------\u001b[0m",
      "\u001b[1;31mNameError\u001b[0m                                 Traceback (most recent call last)",
      "Cell \u001b[1;32mIn[3], line 11\u001b[0m\n\u001b[0;32m      8\u001b[0m     \u001b[39mdef\u001b[39;00m \u001b[39mflight\u001b[39m(\u001b[39mself\u001b[39m):\n\u001b[0;32m      9\u001b[0m         \u001b[39mprint\u001b[39m(\u001b[39m\"\u001b[39m\u001b[39msparrow can fly\u001b[39m\u001b[39m\"\u001b[39m)\n\u001b[1;32m---> 11\u001b[0m \u001b[39mclass\u001b[39;49;00m \u001b[39mostrich\u001b[39;49;00m(bird):\n\u001b[0;32m     12\u001b[0m     \u001b[39mdef\u001b[39;49;00m \u001b[39mflight\u001b[39;49m(\u001b[39mself\u001b[39;49m):\n\u001b[0;32m     13\u001b[0m         \u001b[39mprint\u001b[39;49m(\u001b[39m\"\u001b[39;49m\u001b[39mostrich can\u001b[39;49m\u001b[39m'\u001b[39;49m\u001b[39mt fly\u001b[39;49m\u001b[39m\"\u001b[39;49m)\n",
      "Cell \u001b[1;32mIn[3], line 17\u001b[0m, in \u001b[0;36mostrich\u001b[1;34m()\u001b[0m\n\u001b[0;32m     15\u001b[0m obj_bird\u001b[39m=\u001b[39mbird()\n\u001b[0;32m     16\u001b[0m obj_sparrow\u001b[39m=\u001b[39msparrow()\n\u001b[1;32m---> 17\u001b[0m obj_ostrich\u001b[39m=\u001b[39mostrich()\n\u001b[0;32m     19\u001b[0m obj_bird\u001b[39m.\u001b[39mintro()\n\u001b[0;32m     20\u001b[0m obj_sparrow\u001b[39m.\u001b[39mflight()\n",
      "\u001b[1;31mNameError\u001b[0m: name 'ostrich' is not defined"
     ]
    }
   ],
   "source": [
    "class bird():\n",
    "    def intro(self):\n",
    "        print(\"there are many types of birds\")\n",
    "    def flight(self):\n",
    "        print(\"most of the birds can fly, but some cant't.\")\n",
    "        \n",
    "class sparrow(bird):\n",
    "    def flight(self):\n",
    "        print(\"sparrow can fly\")\n",
    "        \n",
    "class ostrich(bird):\n",
    "    def flight(self):\n",
    "        print(\"ostrich can't fly\")\n",
    "        \n",
    "    obj_bird=bird()\n",
    "    obj_sparrow=sparrow()\n",
    "    obj_ostrich=ostrich()\n",
    "    \n",
    "    obj_bird.intro()\n",
    "    obj_sparrow.flight()\n",
    "    obj_ostrich.flight()"
   ]
  },
  {
   "cell_type": "code",
   "execution_count": 4,
   "metadata": {},
   "outputs": [],
   "source": [
    "class car():\n",
    "    def display(self):\n",
    "        print(\"car info display\")\n",
    "class truck():\n",
    "    def display(self):\n",
    "        print(\"truck info display\")\n",
    "obj1=car()\n",
    "obj2=truck()\n",
    "\n",
    "def funb(obj):\n",
    "    "
   ]
  }
 ],
 "metadata": {
  "kernelspec": {
   "display_name": "Python 3",
   "language": "python",
   "name": "python3"
  },
  "language_info": {
   "codemirror_mode": {
    "name": "ipython",
    "version": 3
   },
   "file_extension": ".py",
   "mimetype": "text/x-python",
   "name": "python",
   "nbconvert_exporter": "python",
   "pygments_lexer": "ipython3",
   "version": "3.11.2"
  },
  "orig_nbformat": 4
 },
 "nbformat": 4,
 "nbformat_minor": 2
}
