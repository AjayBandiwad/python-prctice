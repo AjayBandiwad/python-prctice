{
 "cells": [
  {
   "cell_type": "code",
   "execution_count": 10,
   "metadata": {},
   "outputs": [
    {
     "name": "stdout",
     "output_type": "stream",
     "text": [
      "No Fuel is Available\n"
     ]
    }
   ],
   "source": [
    "class Truck:\n",
    "    #properties\n",
    "    seat=2\n",
    "    tyre=6\n",
    "    fule=\"D\"\n",
    "    carrier=\"Goods\"\n",
    "    fuelstate=\"true\"\n",
    "    \n",
    "    #methods\n",
    "    def Drive(self):\n",
    "        if self.fuelstate == True:\n",
    "            print(\"Ready to Drive , Fuel is Available\")\n",
    "        else:\n",
    "            print(\"No Fuel is Available\")\n",
    "            \n",
    "    def __init__(self,seat,tyre):\n",
    "        self.seat=seat\n",
    "        self.tyre=tyre\n",
    "        self.fuel=\"Petrol\"\n",
    "        self.carrier=\"Frozen Goods\"\n",
    "        self.fuelstate=False\n",
    "#a = input(\"seat capacity\")\n",
    "#b = input(\"tyre capacity\")        \n",
    "obj=Truck(4,14)\n",
    "obj.Drive()"
   ]
  }
 ],
 "metadata": {
  "kernelspec": {
   "display_name": "Python 3",
   "language": "python",
   "name": "python3"
  },
  "language_info": {
   "codemirror_mode": {
    "name": "ipython",
    "version": 3
   },
   "file_extension": ".py",
   "mimetype": "text/x-python",
   "name": "python",
   "nbconvert_exporter": "python",
   "pygments_lexer": "ipython3",
   "version": "3.11.2"
  },
  "orig_nbformat": 4
 },
 "nbformat": 4,
 "nbformat_minor": 2
}
