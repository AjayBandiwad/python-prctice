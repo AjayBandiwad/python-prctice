{
 "cells": [
  {
   "cell_type": "code",
   "execution_count": 10,
   "metadata": {},
   "outputs": [
    {
     "name": "stdout",
     "output_type": "stream",
     "text": [
      "value : 10 ,portal :  53.6\n",
      "total student : 240 ,boys : 120\n",
      "    031\n",
      " 3.561E+02\n"
     ]
    }
   ],
   "source": [
    "print(\"value : %2d ,portal : %5.1f\" %(10,53.552))\n",
    "#print integer value\n",
    "print(\"total student : %3d ,boys : %2d\" %(240,120))\n",
    "#print octal value\n",
    "print(\"%7.3o\"%(25))\n",
    "#print exponential valule\n",
    "print(\"%10.3E\"%(356.08977))"
   ]
  },
  {
   "cell_type": "code",
   "execution_count": 31,
   "metadata": {},
   "outputs": [
    {
     "name": "stdout",
     "output_type": "stream",
     "text": [
      "yeah ! your answer is : 2\n"
     ]
    }
   ],
   "source": [
    "def divide (x,y):\n",
    "    try:\n",
    "        result = x//y\n",
    "        print(\"yeah ! your answer is :\",result)\n",
    "    except ZeroDivisionError:\n",
    "        print(\"sorry ! you are dividing by zero\")\n",
    "divide (2,1)        \n"
   ]
  },
  {
   "cell_type": "code",
   "execution_count": 50,
   "metadata": {},
   "outputs": [
    {
     "name": "stdout",
     "output_type": "stream",
     "text": [
      "10\n",
      "exceprion raised\n"
     ]
    }
   ],
   "source": [
    "def fun():\n",
    "    try:\n",
    "        file_handler=open(\"ab.txt\",\"w\")\n",
    "        a=file_handler.write(\"Hi Keonics\")\n",
    "        print(a)\n",
    "        print (a(20))\n",
    "       \n",
    "        \n",
    "        file_handler.close()\n",
    "    except:\n",
    "        print(\"exceprion raised\")\n",
    "        \n",
    "fun() "
   ]
  }
 ],
 "metadata": {
  "kernelspec": {
   "display_name": "Python 3",
   "language": "python",
   "name": "python3"
  },
  "language_info": {
   "codemirror_mode": {
    "name": "ipython",
    "version": 3
   },
   "file_extension": ".py",
   "mimetype": "text/x-python",
   "name": "python",
   "nbconvert_exporter": "python",
   "pygments_lexer": "ipython3",
   "version": "3.11.2"
  },
  "orig_nbformat": 4
 },
 "nbformat": 4,
 "nbformat_minor": 2
}
